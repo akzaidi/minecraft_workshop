{
 "cells": [
  {
   "cell_type": "markdown",
   "metadata": {},
   "source": [
    "# Lab 0 : Variables\n",
    "\n",
    "Programming languages allow you to store / assign data to _variables_, so that you can refer to them later on. Variables can store numbers, text such as names, lists of items, and much more!\n",
    "\n",
    "In this lab, you'll create a few variables to define your player's position in the Minecraft map. To start, we first import a few helpful _functions_ (you'll learn much more about _functions_ in a later lab) to make our code compatible with different Python platforms:"
   ]
  },
  {
   "cell_type": "code",
   "execution_count": null,
   "metadata": {},
   "outputs": [],
   "source": [
    "from __future__ import print_function"
   ]
  },
  {
   "cell_type": "code",
   "execution_count": null,
   "metadata": {},
   "outputs": [],
   "source": [
    "!git clone https://github.com/akzaidi/minecraft_workshop.git"
   ]
  },
  {
   "cell_type": "code",
   "execution_count": null,
   "metadata": {},
   "outputs": [],
   "source": [
    "import os\n",
    "os.chdir(\"minecraft_workshop/labs\")"
   ]
  },
  {
   "cell_type": "markdown",
   "metadata": {},
   "source": [
    "Next, we import the library called `mcpi` to communicate with our Minecraft environment and players."
   ]
  },
  {
   "cell_type": "code",
   "execution_count": null,
   "metadata": {},
   "outputs": [],
   "source": [
    "from mcpi import minecraft"
   ]
  },
  {
   "cell_type": "markdown",
   "metadata": {},
   "source": [
    "## Define your variables!\n",
    "\n",
    "Next, we define two variables, `server_address`, and `username`. The first one is the server address of our Minecraft server. This will be provided by your course instructor. The second one, is your player's _username_ in Minecraft, i.e., the username you chose when you ran `python launcher.py` in the course instructions."
   ]
  },
  {
   "cell_type": "code",
   "execution_count": null,
   "metadata": {},
   "outputs": [],
   "source": [
    "server_address = \"137.116.70.239\"\n",
    "username = \"\""
   ]
  },
  {
   "cell_type": "markdown",
   "metadata": {},
   "source": [
    "What was the point of defining our own variables? Now we can refer to those variables to connect to our player and get our player's position:"
   ]
  },
  {
   "cell_type": "code",
   "execution_count": null,
   "metadata": {},
   "outputs": [],
   "source": [
    "mc = minecraft.Minecraft.create(address=server_address, name=username)\n",
    "pos = mc.player.getPos()\n",
    "print(pos)"
   ]
  },
  {
   "cell_type": "markdown",
   "metadata": {},
   "source": [
    "The value in `pos` refers to our player's _coordinates_, i.e., where that player is currently in Minecraft in $x,y,z$ space. \n",
    "\n",
    "What if we wanted to move our player $(10, 110, 12)$? Well, we could manually move our player there using the controller in Minecraft, or, we could **teleport**!"
   ]
  },
  {
   "cell_type": "markdown",
   "metadata": {},
   "source": [
    "## Teleport\n",
    "\n",
    "To teleport, we'll create three variables with positions stored to where we want to move to. Let's call these variables `x`, `y`, `z`. Next we will use the function `mc.player.setTilePos()` to place our player there. "
   ]
  },
  {
   "cell_type": "code",
   "execution_count": null,
   "metadata": {},
   "outputs": [],
   "source": [
    "x = 10 \n",
    "y = 110 \n",
    "z = 12\n",
    "\n",
    "mc.player.setTilePos(x, y, z)"
   ]
  },
  {
   "cell_type": "markdown",
   "metadata": {},
   "source": [
    "## Exercises\n",
    "\n",
    "1. What is the purpose of the `mc` variable? \n",
    "1. Why are the values assigned to `server_address` and `username` in quotes?\n",
    "1. How do you find out player's current position?\n",
    "1. Move your player to a position 10 steps behind where you currently are.\n",
    "1. What happens if you use a negative number for any (or multiple) coordinates?"
   ]
  }
 ],
 "metadata": {
  "kernelspec": {
   "display_name": "Python [conda env:py35]",
   "language": "python",
   "name": "conda-env-py35-py"
  },
  "language_info": {
   "codemirror_mode": {
    "name": "ipython",
    "version": 3
   },
   "file_extension": ".py",
   "mimetype": "text/x-python",
   "name": "python",
   "nbconvert_exporter": "python",
   "pygments_lexer": "ipython3",
   "version": "3.5.4"
  }
 },
 "nbformat": 4,
 "nbformat_minor": 2
}
