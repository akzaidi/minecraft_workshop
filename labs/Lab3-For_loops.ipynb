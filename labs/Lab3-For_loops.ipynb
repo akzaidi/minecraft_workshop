{
 "cells": [
  {
   "cell_type": "markdown",
   "metadata": {},
   "source": [
    "# Lab 3 : For Loops and Iteration\n",
    "\n",
    "Sometimes you want to run a sequence of commands based on a condition or based on a fixed number of iterations. We will examine conditional iteration and loops in a later section (after covering booleans), but let's take a look at a fun example of `for` loops first."
   ]
  },
  {
   "cell_type": "code",
   "execution_count": null,
   "metadata": {},
   "outputs": [],
   "source": [
    "from __future__ import absolute_import\n",
    "from __future__ import division\n",
    "from __future__ import print_function\n",
    "from __future__ import unicode_literals\n"
   ]
  },
  {
   "cell_type": "code",
   "execution_count": null,
   "metadata": {},
   "outputs": [],
   "source": [
    "!git clone https://github.com/akzaidi/minecraft_workshop.git"
   ]
  },
  {
   "cell_type": "code",
   "execution_count": null,
   "metadata": {},
   "outputs": [],
   "source": [
    "import os\n",
    "os.chdir(\"minecraft_workshop/labs\")"
   ]
  },
  {
   "cell_type": "code",
   "execution_count": null,
   "metadata": {},
   "outputs": [],
   "source": [
    "from mcpi import minecraft\n",
    "server_address = \"\"\n",
    "username = \"\"\n",
    "mc = minecraft.Minecraft.create(address=server_address, name=username)"
   ]
  },
  {
   "cell_type": "markdown",
   "metadata": {},
   "source": [
    "## Lists\n",
    "\n",
    "One important construct that we should discuss before diving into loops and recursions are lists. \n",
    "\n",
    "So far we have created variables that refer to values that are single items: one number, one string, etc. But what if we have a collection of items? We could define many variables, but then we have to keep track of all these variables :(\n",
    "\n",
    "A list is a data structure that contains multiple values. For example, let's define a list of names:"
   ]
  },
  {
   "cell_type": "code",
   "execution_count": null,
   "metadata": {},
   "outputs": [],
   "source": [
    "names = [\"Fatima\", \"Ali\", \"Muhammad\", \"Hussein\"]"
   ]
  },
  {
   "cell_type": "markdown",
   "metadata": {},
   "source": [
    "There are useful functions we can check use with lists: `len` will tell us how many items are in a list:"
   ]
  },
  {
   "cell_type": "code",
   "execution_count": null,
   "metadata": {},
   "outputs": [],
   "source": [
    "len(names)"
   ]
  },
  {
   "cell_type": "markdown",
   "metadata": {},
   "source": [
    "If you need add more items to a list, you can use the append `method`."
   ]
  },
  {
   "cell_type": "code",
   "execution_count": null,
   "metadata": {},
   "outputs": [],
   "source": [
    "names.append(\"Zainab\")"
   ]
  },
  {
   "cell_type": "code",
   "execution_count": null,
   "metadata": {},
   "outputs": [],
   "source": [
    "len(names)"
   ]
  },
  {
   "cell_type": "markdown",
   "metadata": {},
   "source": [
    "We can also iterate over lists, using `enumerate` and `for` loops. For example:"
   ]
  },
  {
   "cell_type": "code",
   "execution_count": null,
   "metadata": {},
   "outputs": [],
   "source": [
    "for name in names:\n",
    "    print(name)"
   ]
  },
  {
   "cell_type": "markdown",
   "metadata": {},
   "source": [
    "### Range\n",
    "\n",
    "You can easily create and iterate over a sequence of numbers using `range`:"
   ]
  },
  {
   "cell_type": "code",
   "execution_count": null,
   "metadata": {},
   "outputs": [],
   "source": [
    "range(5)"
   ]
  },
  {
   "cell_type": "code",
   "execution_count": null,
   "metadata": {},
   "outputs": [],
   "source": [
    "len(range(5))"
   ]
  },
  {
   "cell_type": "code",
   "execution_count": null,
   "metadata": {},
   "outputs": [],
   "source": [
    "for number in range(5):\n",
    "    print(number)"
   ]
  },
  {
   "cell_type": "markdown",
   "metadata": {},
   "source": [
    "### Quick Exercise\n",
    "\n",
    "Calculate the sum of $0$-$9$:\n"
   ]
  },
  {
   "cell_type": "markdown",
   "metadata": {},
   "source": [
    "## Exercise: Build a Pyramid\n",
    "\n",
    "Using a for loop and range, create a pyramid.\n",
    "\n",
    "Here's some tips:\n",
    "\n",
    "1. Define a pyramid_height (something below 10).\n",
    "1. Use range with pyramid height to define the sequence to loop over.\n",
    "1. Inside the for loop add the increment from range\n",
    "1. Use `setBlocks` to set a sequence of blocks\n",
    "    * $y$ won't change\n",
    "    * $x$ and $z$ should be the length of a square"
   ]
  },
  {
   "cell_type": "code",
   "execution_count": null,
   "metadata": {},
   "outputs": [],
   "source": [
    "block_id = 57\n",
    "\n",
    "pos = mc.player.getPos()\n",
    "\n",
    "pyramid_height = 10\n",
    "\n",
    "for i in ____:\n",
    "    x = ____ \n",
    "    y = ____ \n",
    "    z = ____ \n",
    "\n",
    "    x2 = ____ \n",
    "    y2 = ____ \n",
    "    z2 = ____ "
   ]
  }
 ],
 "metadata": {
  "kernelspec": {
   "display_name": "Python [conda env:py35]",
   "language": "python",
   "name": "conda-env-py35-py"
  },
  "language_info": {
   "codemirror_mode": {
    "name": "ipython",
    "version": 3
   },
   "file_extension": ".py",
   "mimetype": "text/x-python",
   "name": "python",
   "nbconvert_exporter": "python",
   "pygments_lexer": "ipython3",
   "version": "3.5.4"
  }
 },
 "nbformat": 4,
 "nbformat_minor": 2
}
