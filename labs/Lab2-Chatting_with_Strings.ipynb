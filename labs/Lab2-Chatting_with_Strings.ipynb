{
 "cells": [
  {
   "cell_type": "markdown",
   "metadata": {},
   "source": [
    "# Lab 2 : Chatting with Strings\n",
    "\n",
    "You've already encountered _strings_ in the previous labs. Strings contain text, which have a number of uses. We can use them to represent text data, say from a book or a tweet, or we can use them to print out statements while we code to provide assistance or help.\n",
    "\n",
    "In this lab, we'll use strings in our client to submit chats to our Minecraft server."
   ]
  },
  {
   "cell_type": "code",
   "execution_count": null,
   "metadata": {},
   "outputs": [],
   "source": [
    "from __future__ import absolute_import\n",
    "from __future__ import division\n",
    "from __future__ import print_function\n",
    "from __future__ import unicode_literals"
   ]
  },
  {
   "cell_type": "code",
   "execution_count": null,
   "metadata": {},
   "outputs": [],
   "source": [
    "text = \"Hey there, how's it going?\"\n",
    "print(text)"
   ]
  },
  {
   "cell_type": "code",
   "execution_count": null,
   "metadata": {},
   "outputs": [],
   "source": [
    "!git clone https://github.com/akzaidi/minecraft_workshop.git"
   ]
  },
  {
   "cell_type": "code",
   "execution_count": null,
   "metadata": {},
   "outputs": [],
   "source": [
    "import os\n",
    "os.chdir(\"minecraft_workshop/labs\")"
   ]
  },
  {
   "cell_type": "code",
   "execution_count": null,
   "metadata": {},
   "outputs": [],
   "source": [
    "from mcpi import minecraft\n",
    "server_address = \"\"\n",
    "username = \"\"\n",
    "mc = minecraft.Minecraft.create(address=server_address, name=username)"
   ]
  },
  {
   "cell_type": "markdown",
   "metadata": {},
   "source": [
    "## Posting Messages to Minecraft Server\n",
    "\n",
    "Let's post our string stored in the variable `text` to the Minecraft server. We can use the `postToChat` function for this:"
   ]
  },
  {
   "cell_type": "code",
   "execution_count": null,
   "metadata": {},
   "outputs": [],
   "source": [
    "mc.postToChat(text)"
   ]
  },
  {
   "cell_type": "markdown",
   "metadata": {},
   "source": [
    "## Inputs\n",
    "\n",
    "We can also ask the user to put in some text which we can assign to a variable. For example, let's ask the user to input his/her name, and let's save that value to a variable called _name_:"
   ]
  },
  {
   "cell_type": "code",
   "execution_count": null,
   "metadata": {},
   "outputs": [],
   "source": [
    "name = input(\"What is your name?\")"
   ]
  },
  {
   "cell_type": "code",
   "execution_count": null,
   "metadata": {},
   "outputs": [],
   "source": [
    "print(name)"
   ]
  },
  {
   "cell_type": "markdown",
   "metadata": {},
   "source": [
    "### Quick Exercise\n",
    "\n",
    "Post a chat to the server with the following text:\n",
    "\n",
    "\"Hi my name is {add_your_name}\"\n",
    "\n",
    "where you replace `{add_your_name}` with your name."
   ]
  },
  {
   "cell_type": "markdown",
   "metadata": {},
   "source": [
    "## Combining / Concatenating Strings\n",
    "\n",
    "You can \"combine\"/concatenate strings using the `+` symbol (this is called operator overloading):"
   ]
  },
  {
   "cell_type": "code",
   "execution_count": null,
   "metadata": {},
   "outputs": [],
   "source": [
    "print(\"hi my name is \" + name)"
   ]
  },
  {
   "cell_type": "markdown",
   "metadata": {},
   "source": [
    "### Redo Quick Exercise\n",
    "\n",
    "Redo the above exercise but this time use the + symbol:\n"
   ]
  },
  {
   "cell_type": "markdown",
   "metadata": {},
   "source": [
    "## Concatenating Strings and Integers\n",
    "\n",
    "What happens if you try to \"add\" a number to a string:"
   ]
  },
  {
   "cell_type": "code",
   "execution_count": null,
   "metadata": {},
   "outputs": [],
   "source": [
    "birth_year = 1987\n",
    "\"Hi, I was born in \" + birth_year"
   ]
  },
  {
   "cell_type": "markdown",
   "metadata": {},
   "source": [
    "### Type conversions\n",
    "\n",
    "Fortunately, we can change `birth_year` to a string first:"
   ]
  },
  {
   "cell_type": "code",
   "execution_count": null,
   "metadata": {},
   "outputs": [],
   "source": [
    "\"Hi, I was born in \" + str(birth_year)"
   ]
  },
  {
   "cell_type": "markdown",
   "metadata": {},
   "source": [
    "## Exercise\n",
    "\n",
    "In this exercise, you'll use some math, variables and strings to calculate how far your player has moved from their current position to a new position. \n",
    "\n",
    "1. The first step is to get your player's current position and assign it to the variables `x1, y1, z1`. \n",
    "    - this is already done for you below.\n",
    "1. Next, you'll go to your server and move your player as far as you can. \n",
    "    - try to move as **far** as you can!\n",
    "1. Get your player's new coordinates and assign them to new variables!\n",
    "1. Then you need to calculate the distance traveled to their current position from their last position and post it to the chat.\n",
    "    - how do you calculate the difference between two variables? (subtraction?)"
   ]
  },
  {
   "cell_type": "code",
   "execution_count": null,
   "metadata": {},
   "outputs": [],
   "source": [
    "import time\n",
    "\n",
    "pos1 = mc.player.getTilePos()\n",
    "x1 = pos1.x\n",
    "y1 = pos1.y\n",
    "z1 = pos1.z\n",
    "\n",
    "time.sleep(10)\n",
    "\n",
    "pos2 = \n",
    "x2 = \n",
    "y2 = \n",
    "z2 = \n",
    "\n",
    "# Compare the difference between the starting position and ending position\n",
    "xDistance = \n",
    "yDistance = \n",
    "zDistance = \n",
    "\n",
    "#Post the results to the chat\n",
    "mc.postToChat(\"your message here\")\n"
   ]
  },
  {
   "cell_type": "markdown",
   "metadata": {},
   "source": [
    "## Bonus Exercise\n",
    "\n",
    "Let's see who can travel the furthest. Try the above but this time use absolute values `abs(-3) = 3`, and add all three distances together to get one value. "
   ]
  }
 ],
 "metadata": {
  "kernelspec": {
   "display_name": "Python [conda env:py35]",
   "language": "python",
   "name": "conda-env-py35-py"
  },
  "language_info": {
   "codemirror_mode": {
    "name": "ipython",
    "version": 3
   },
   "file_extension": ".py",
   "mimetype": "text/x-python",
   "name": "python",
   "nbconvert_exporter": "python",
   "pygments_lexer": "ipython3",
   "version": "3.5.4"
  }
 },
 "nbformat": 4,
 "nbformat_minor": 2
}
