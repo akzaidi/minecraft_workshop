{
 "cells": [
  {
   "cell_type": "markdown",
   "metadata": {},
   "source": [
    "# Lab 1: Building Things Using Math\n",
    "\n",
    "This lab continues on the work we started in the first lab. We'll use _variables_ to assign coordinates to our position, and then use **math** to stack up blocks together.\n",
    "\n",
    "First, our usual imports:"
   ]
  },
  {
   "cell_type": "code",
   "execution_count": null,
   "metadata": {},
   "outputs": [],
   "source": [
    "from __future__ import absolute_import\n",
    "from __future__ import division\n",
    "from __future__ import print_function\n",
    "from __future__ import unicode_literals"
   ]
  },
  {
   "cell_type": "code",
   "execution_count": null,
   "metadata": {},
   "outputs": [],
   "source": [
    "!git clone https://github.com/akzaidi/minecraft_workshop.git"
   ]
  },
  {
   "cell_type": "code",
   "execution_count": null,
   "metadata": {},
   "outputs": [],
   "source": [
    "import os\n",
    "os.chdir(\"minecraft_workshop/labs\")"
   ]
  },
  {
   "cell_type": "markdown",
   "metadata": {},
   "source": [
    "## Attach to our user"
   ]
  },
  {
   "cell_type": "code",
   "execution_count": null,
   "metadata": {},
   "outputs": [],
   "source": [
    "from mcpi import minecraft\n",
    "server_address = \"\"\n",
    "username = \"\"\n",
    "mc = minecraft.Minecraft.create(address=server_address, name=username)"
   ]
  },
  {
   "cell_type": "markdown",
   "metadata": {},
   "source": [
    "## Get our player's current position\n",
    "Let's get our player's current position on the map:"
   ]
  },
  {
   "cell_type": "code",
   "execution_count": null,
   "metadata": {},
   "outputs": [],
   "source": [
    "pos = mc.player.getPos()\n",
    "print(pos)"
   ]
  },
  {
   "cell_type": "markdown",
   "metadata": {},
   "source": [
    "## Set a block\n",
    "Let's define three variables $x,y,z$ and set a block right at our player's position (watch out!)."
   ]
  },
  {
   "cell_type": "code",
   "execution_count": null,
   "metadata": {},
   "outputs": [],
   "source": [
    "x = 10\n",
    "y = 3\n",
    "z = 12 \n",
    "blockType = 103 "
   ]
  },
  {
   "cell_type": "markdown",
   "metadata": {},
   "source": [
    "To set a block, let's use the `setBlock` function. It takes four values, the first three being the coordinates $(x,y,z)$, and the last being the `blockType`."
   ]
  },
  {
   "cell_type": "code",
   "execution_count": null,
   "metadata": {},
   "outputs": [],
   "source": [
    "mc.setBlock(x, y, z, blockType)"
   ]
  },
  {
   "cell_type": "markdown",
   "metadata": {},
   "source": [
    "## Stacking blocks with simple addition\n",
    "\n",
    "What if we wanted to place blocks on top of one another?\n",
    "$y$: refers to the vertical position in $x,y,z$ space.\n",
    "Let's add $1$ to $y$ and see what happens if we use `mc.setBlock` again:"
   ]
  },
  {
   "cell_type": "code",
   "execution_count": null,
   "metadata": {},
   "outputs": [],
   "source": [
    "y = y + 1\n",
    "mc.setBlock(x, y, z, blockType)"
   ]
  },
  {
   "cell_type": "markdown",
   "metadata": {},
   "source": [
    "## Changing Tiles by Accessing Variable Values\n",
    "\n",
    "Above we manually assigned the $x,y,z$ coordinates. But we have a variable called `pos` which refers to our player's current position. Can we use that to access the coordinates? \n",
    "\n",
    "Yes we can! To do so, just call on the `x`, `y`, or `z` _object_ of the pos variable as so:"
   ]
  },
  {
   "cell_type": "code",
   "execution_count": null,
   "metadata": {},
   "outputs": [],
   "source": [
    "pos = mc.player.getTilePos() \n",
    "x = pos.x \n",
    "y = pos.y \n",
    "z = pos.z "
   ]
  },
  {
   "cell_type": "markdown",
   "metadata": {},
   "source": [
    "## Create a fire!\n",
    "\n",
    "`blockType = 10` refers to a fire block. Let's set that block to our player's current position (don't worry, I've made all your players invincible :))"
   ]
  },
  {
   "cell_type": "code",
   "execution_count": null,
   "metadata": {},
   "outputs": [],
   "source": [
    "blockType = 10 \n",
    "mc.setBlock(x, y, z, blockType)"
   ]
  },
  {
   "cell_type": "markdown",
   "metadata": {},
   "source": [
    "## Build a cuboid-home\n",
    "\n",
    "Previously we used the `setBlock` function to set a single block at a single position. `setBlock` has a friend called `setBlocks`, which can set blocks in a cuboid format. In addition to the coordinates as before, we have new variables for width, height, and length to set multiple blocks in a cuboid format:"
   ]
  },
  {
   "cell_type": "code",
   "execution_count": null,
   "metadata": {},
   "outputs": [],
   "source": [
    "pos = mc.player.getPos() \n",
    "x = pos.x \n",
    "y = pos.y \n",
    "z = pos.z \n",
    "width = 10 \n",
    "height = 5 \n",
    "length = 6 \n",
    "blockType = 4 \n",
    "air = 0"
   ]
  },
  {
   "cell_type": "code",
   "execution_count": null,
   "metadata": {},
   "outputs": [],
   "source": [
    "mc.setBlocks(x, y, z, x + width, y + height, z + length, blockType)"
   ]
  },
  {
   "cell_type": "markdown",
   "metadata": {},
   "source": [
    "Let's add a window:"
   ]
  },
  {
   "cell_type": "code",
   "execution_count": null,
   "metadata": {},
   "outputs": [],
   "source": [
    "mc.setBlocks(x + 1, y + 1, z + 1,\n",
    "             x + width - 1, y + height - 1, z + length - 1, air)\n"
   ]
  },
  {
   "cell_type": "markdown",
   "metadata": {},
   "source": [
    "## Exercises\n",
    "\n",
    "1. Can you use the code above and from the last lab to make your player jump up 5 positions?"
   ]
  }
 ],
 "metadata": {
  "kernelspec": {
   "display_name": "Python [conda env:py35]",
   "language": "python",
   "name": "conda-env-py35-py"
  },
  "language_info": {
   "codemirror_mode": {
    "name": "ipython",
    "version": 3
   },
   "file_extension": ".py",
   "mimetype": "text/x-python",
   "name": "python",
   "nbconvert_exporter": "python",
   "pygments_lexer": "ipython3",
   "version": "3.5.4"
  }
 },
 "nbformat": 4,
 "nbformat_minor": 2
}
